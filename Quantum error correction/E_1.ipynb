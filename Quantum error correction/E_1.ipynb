{
 "cells": [
  {
   "cell_type": "markdown",
   "id": "d4ec22a0-8988-4430-9e8c-08587934f0dc",
   "metadata": {},
   "source": [
    "# E.1 Got errors?\n",
    "https://codebook.xanadu.ai/E.1"
   ]
  },
  {
   "cell_type": "code",
   "execution_count": 1,
   "id": "eb13cedd-e90d-4fff-99d3-8ed349d2dcb8",
   "metadata": {},
   "outputs": [],
   "source": [
    "import numpy as np"
   ]
  },
  {
   "cell_type": "markdown",
   "id": "54d29074-325d-4356-b604-ebf366f038c6",
   "metadata": {},
   "source": [
    "## Codercise E.1.1"
   ]
  },
  {
   "cell_type": "code",
   "execution_count": 2,
   "id": "18bccfe2-724f-4cfb-bc76-06c218f2666e",
   "metadata": {},
   "outputs": [],
   "source": [
    "def encode(b):\n",
    "    \"\"\"\n",
    "    returns: \n",
    "        list[int]: three copies of bit b as a 3D list\n",
    "    ****************\n",
    "    b (int): bit value to be sent (int value 0 or 1)\n",
    "    \"\"\"\n",
    "    return [b, b, b]\n",
    "\n",
    "def noisy_channel(b, p):\n",
    "    \"\"\"\n",
    "    returns: \n",
    "        list[int]: 3D list affected by noise - each bit b is flipped with probability p\n",
    "    ****************\n",
    "    b (int): bit value to be sent (int value 0 or 1)\n",
    "    p (float): probability with which b is flipped (float value from 0 to 1)\n",
    "    \"\"\"\n",
    "    alice_sends = encode(b)\n",
    "    \n",
    "    for i in range(len(alice_sends)):\n",
    "        R = np.random.uniform(0,1) # generates random number uniformly distributed between 0 and 1\n",
    "        print(R)\n",
    "        if R < p:\n",
    "            # flip bit with XOR gate\n",
    "            alice_sends[i] ^= 1\n",
    "    return alice_sends\n"
   ]
  },
  {
   "cell_type": "code",
   "execution_count": 3,
   "id": "29d9c804-8829-4133-9fce-7761dbe2aa74",
   "metadata": {},
   "outputs": [
    {
     "name": "stdout",
     "output_type": "stream",
     "text": [
      "0.7267606513944377\n",
      "0.1438756859783742\n",
      "0.37958377492925555\n"
     ]
    },
    {
     "data": {
      "text/plain": [
       "[0, 1, 1]"
      ]
     },
     "execution_count": 3,
     "metadata": {},
     "output_type": "execute_result"
    }
   ],
   "source": [
    "noisy_channel(0, 0.6)"
   ]
  },
  {
   "cell_type": "markdown",
   "id": "b5027ab1-c1a8-4b0f-a477-fda4646984a5",
   "metadata": {},
   "source": [
    "## Codercise E.1.2"
   ]
  },
  {
   "cell_type": "code",
   "execution_count": 4,
   "id": "4c31a1b2-ec62-4a8d-9191-8ba7691ad356",
   "metadata": {},
   "outputs": [],
   "source": [
    "def decode(codeword):\n",
    "    \"\"\"\n",
    "    returns: \n",
    "        int: prediction for the sent bit value (int value 0 or 1)\n",
    "    ****************\n",
    "    codeword (list[int]): the 3-bit message received\n",
    "    \"\"\"\n",
    "    count0 = codeword.count(0)\n",
    "    count1 = codeword.count(1)\n",
    "    if count0 > count1:\n",
    "        return 0\n",
    "    else:\n",
    "        return 1\n",
    "\n",
    "def success(b, codeword):\n",
    "    \"\"\"\n",
    "    returns: \n",
    "        bool: True (False) if codeword has been correctly (incorrectly) decoded\n",
    "    ****************\n",
    "    b (int): bit (int value 0 or 1)\n",
    "    codeword (list[int]): the 3-bit message received\n",
    "    \"\"\"\n",
    "    return b == decode(codeword)\n"
   ]
  },
  {
   "cell_type": "code",
   "execution_count": 5,
   "id": "24e33bfc-36b4-4862-89bc-9717d873572a",
   "metadata": {},
   "outputs": [
    {
     "data": {
      "text/plain": [
       "False"
      ]
     },
     "execution_count": 5,
     "metadata": {},
     "output_type": "execute_result"
    }
   ],
   "source": [
    "success(0, [0,1,1])"
   ]
  },
  {
   "cell_type": "code",
   "execution_count": null,
   "id": "68f88e60-253a-42fe-807c-2ac7f497b043",
   "metadata": {},
   "outputs": [],
   "source": []
  }
 ],
 "metadata": {
  "kernelspec": {
   "display_name": "Python 3 (ipykernel)",
   "language": "python",
   "name": "python3"
  },
  "language_info": {
   "codemirror_mode": {
    "name": "ipython",
    "version": 3
   },
   "file_extension": ".py",
   "mimetype": "text/x-python",
   "name": "python",
   "nbconvert_exporter": "python",
   "pygments_lexer": "ipython3",
   "version": "3.10.7"
  }
 },
 "nbformat": 4,
 "nbformat_minor": 5
}
