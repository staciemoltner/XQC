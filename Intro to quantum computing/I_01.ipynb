{
 "cells": [
  {
   "cell_type": "code",
   "execution_count": 1,
   "id": "ac1f83ec-cd50-4de2-bc23-f9faf0ed6795",
   "metadata": {},
   "outputs": [],
   "source": [
    "import numpy as np\n",
    "import pennylane as qml"
   ]
  },
  {
   "cell_type": "markdown",
   "id": "c6826390-53ff-46fb-88ad-fe7e41064d22",
   "metadata": {},
   "source": [
    "# I.1 All about qubits"
   ]
  },
  {
   "cell_type": "code",
   "execution_count": 2,
   "id": "e3a34c6b-d99a-40b8-877d-d5a562044189",
   "metadata": {},
   "outputs": [],
   "source": [
    "# vector representations of |0> and |1>\n",
    "ket_0 = np.array([1, 0]) \n",
    "ket_1 = np.array([0, 1])"
   ]
  },
  {
   "cell_type": "markdown",
   "id": "e6b05c4f-5518-42a0-9116-1478d8a1f9c4",
   "metadata": {},
   "source": [
    "## Codercise I.1.1"
   ]
  },
  {
   "cell_type": "code",
   "execution_count": 3,
   "id": "8ef18298-6d38-4857-8962-d8fcf1c43676",
   "metadata": {},
   "outputs": [],
   "source": [
    "def normalize_state(alpha, beta):\n",
    "    \"\"\"\n",
    "    returns: \n",
    "        array[complex]: normalized quantum state as a 2d array\n",
    "    ****************\n",
    "    alpha (complex), beta (complex): amplitudes for states |0>, |1> respectively\n",
    "    \"\"\"\n",
    "    # compute normalization factor (i.e. the Euclidean norm)\n",
    "    norm = np.sqrt(np.abs(alpha)**2 + np.abs(beta)**2)\n",
    "    return 1/norm * (alpha * ket_0 + beta * ket_1)\n",
    "    "
   ]
  },
  {
   "cell_type": "code",
   "execution_count": 4,
   "id": "6a81200b-1f93-4264-be80-986bb9530acb",
   "metadata": {},
   "outputs": [
    {
     "data": {
      "text/plain": [
       "array([ 0.87287156+0.43643578j, -0.13093073+0.17457431j])"
      ]
     },
     "execution_count": 4,
     "metadata": {},
     "output_type": "execute_result"
    }
   ],
   "source": [
    "# example:\n",
    "alpha = 2.0 + 1.0j\n",
    "beta = -0.3 + 0.4j\n",
    "normalize_state(alpha, beta)"
   ]
  },
  {
   "cell_type": "markdown",
   "id": "77e0914a-ccb4-443d-bba9-3e16ddee1a7f",
   "metadata": {},
   "source": [
    "## Codercise I.1.2"
   ]
  },
  {
   "cell_type": "code",
   "execution_count": 5,
   "id": "559747ef-f5f1-477d-b092-f24b251b8b5d",
   "metadata": {},
   "outputs": [],
   "source": [
    "def inner_product(state_1, state_2):\n",
    "    \"\"\"\n",
    "    returns: \n",
    "        complex: inner product between two states\n",
    "    ****************\n",
    "    state_1 (array[complex]), state_2 (array[complex]): quantum state vectors\n",
    "    \"\"\"\n",
    "    return np.sum([np.conj(a) * b for a, b in zip(state_1, state_2)])\n"
   ]
  },
  {
   "cell_type": "code",
   "execution_count": 6,
   "id": "8c856d63-7011-4d43-bc72-4965cb4d6b55",
   "metadata": {},
   "outputs": [
    {
     "name": "stdout",
     "output_type": "stream",
     "text": [
      "<0|0> = 1\n",
      "<0|1> = 0\n",
      "<1|0> = 0\n",
      "<1|1> = 1\n"
     ]
    }
   ],
   "source": [
    "# test that |0> |1> form an orthonormal basis\n",
    "print(f\"<0|0> = {inner_product(ket_0, ket_0)}\")\n",
    "print(f\"<0|1> = {inner_product(ket_0, ket_1)}\")\n",
    "print(f\"<1|0> = {inner_product(ket_1, ket_0)}\")\n",
    "print(f\"<1|1> = {inner_product(ket_1, ket_1)}\")\n"
   ]
  },
  {
   "cell_type": "code",
   "execution_count": 7,
   "id": "a557499b-25ae-46fb-914d-a3aa82b741f3",
   "metadata": {},
   "outputs": [
    {
     "data": {
      "text/plain": [
       "(0.565685424949238+0.42426406871192845j)"
      ]
     },
     "execution_count": 7,
     "metadata": {},
     "output_type": "execute_result"
    }
   ],
   "source": [
    "# example:\n",
    "state_1 = np.array([0.8, 0.6])\n",
    "state_2 = np.array([1 / np.sqrt(2), 1j / np.sqrt(2)]) \n",
    "inner_product(state_1, state_2)"
   ]
  },
  {
   "cell_type": "markdown",
   "id": "d5bb870b-bd4e-4a48-b8d5-cc2e9a25194b",
   "metadata": {},
   "source": [
    "## Codercise I.1.3"
   ]
  },
  {
   "cell_type": "code",
   "execution_count": 8,
   "id": "cfbf039a-7103-4903-ae6d-bc149957c254",
   "metadata": {},
   "outputs": [],
   "source": [
    "def measure_state(state, num_meas):\n",
    "    \"\"\"\n",
    "    returns: \n",
    "        array[int]: (num_meas)-dimensional array of quantum measurements\n",
    "    ****************\n",
    "    state (array[complex]): normalized quantum state vector\n",
    "    num_meas (int): the number of measurements to be taken\n",
    "    \"\"\"\n",
    "    meas = np.random.choice([0, 1], p=[np.abs(a)**2 for a in state], size=num_meas)\n",
    "    return meas\n"
   ]
  },
  {
   "cell_type": "code",
   "execution_count": 9,
   "id": "46290b26-a1d5-4281-b5f1-58efda16592b",
   "metadata": {},
   "outputs": [
    {
     "data": {
      "text/plain": [
       "array([0, 1, 0, 1, 0, 0, 0, 0, 0, 0])"
      ]
     },
     "execution_count": 9,
     "metadata": {},
     "output_type": "execute_result"
    }
   ],
   "source": [
    "# example:\n",
    "state = np.array([0.8, 0.6])\n",
    "measure_state(state, 10)"
   ]
  },
  {
   "cell_type": "markdown",
   "id": "31cdb701-98b6-484c-9e5e-e066db477d9d",
   "metadata": {},
   "source": [
    "## Codercise I.1.4"
   ]
  },
  {
   "cell_type": "code",
   "execution_count": 10,
   "id": "d17bb72e-062f-4f9c-a39d-a0c686e9d9cf",
   "metadata": {},
   "outputs": [],
   "source": [
    "def apply_u(state):\n",
    "    \"\"\"\n",
    "    returns: \n",
    "        array[complex]: result of quantum operation U on state\n",
    "    ****************\n",
    "    state (array[complex]): normalized quantum state vector\n",
    "    \"\"\"\n",
    "    return (U @ state)\n",
    "    "
   ]
  },
  {
   "cell_type": "code",
   "execution_count": 11,
   "id": "7d59aa7d-e0c7-4bb9-a499-d669d509f9c7",
   "metadata": {},
   "outputs": [
    {
     "data": {
      "text/plain": [
       "array([0.6, 0.8])"
      ]
     },
     "execution_count": 11,
     "metadata": {},
     "output_type": "execute_result"
    }
   ],
   "source": [
    "# example:\n",
    "U = np.array([[0, 1], [1, 0]])\n",
    "state = np.array([0.8, 0.6])\n",
    "apply_u(state)"
   ]
  },
  {
   "cell_type": "markdown",
   "id": "ab7a2f4f-8a96-41f2-bcc9-7b53980cdbd4",
   "metadata": {},
   "source": [
    "## Codercise I.1.5"
   ]
  },
  {
   "cell_type": "code",
   "execution_count": 12,
   "id": "ec9f9ee8-ce5c-4da2-b68e-7692be929758",
   "metadata": {},
   "outputs": [],
   "source": [
    "def initialize_state():\n",
    "    \"\"\"\n",
    "    returns: \n",
    "        array[float]: vector for state |0>\n",
    "    \"\"\"\n",
    "    return np.array([1,0])\n",
    "\n",
    "\n",
    "def quantum_algorithm():\n",
    "    \"\"\"\n",
    "    returns: \n",
    "        array[int]: array of 100 measurements\n",
    "    \"\"\"\n",
    "    new_state = apply_u(initialize_state())\n",
    "    return measure_state(new_state, 100)\n"
   ]
  },
  {
   "cell_type": "code",
   "execution_count": 13,
   "id": "7eb9fa54-140d-403c-95ea-01b3f57c9520",
   "metadata": {},
   "outputs": [
    {
     "data": {
      "text/plain": [
       "array([0, 0, 1, 0, 1, 1, 1, 0, 0, 0, 0, 1, 0, 1, 0, 1, 1, 0, 0, 0, 0, 0,\n",
       "       1, 0, 0, 1, 1, 1, 1, 1, 1, 0, 1, 1, 1, 0, 0, 0, 1, 0, 0, 1, 1, 0,\n",
       "       0, 0, 1, 0, 0, 1, 0, 0, 0, 0, 1, 1, 0, 0, 1, 1, 0, 0, 0, 0, 0, 0,\n",
       "       1, 1, 0, 0, 1, 1, 0, 1, 0, 1, 0, 1, 0, 1, 1, 0, 0, 1, 1, 1, 1, 1,\n",
       "       0, 0, 0, 1, 0, 0, 1, 0, 1, 1, 0, 1])"
      ]
     },
     "execution_count": 13,
     "metadata": {},
     "output_type": "execute_result"
    }
   ],
   "source": [
    "# example:\n",
    "U = np.array([[1, 1], [1, -1]]) / np.sqrt(2)\n",
    "quantum_algorithm()"
   ]
  },
  {
   "cell_type": "code",
   "execution_count": null,
   "id": "4b6e9364-8e16-41c8-a464-9c0122ab1ae9",
   "metadata": {},
   "outputs": [],
   "source": []
  }
 ],
 "metadata": {
  "kernelspec": {
   "display_name": "Python 3 (ipykernel)",
   "language": "python",
   "name": "python3"
  },
  "language_info": {
   "codemirror_mode": {
    "name": "ipython",
    "version": 3
   },
   "file_extension": ".py",
   "mimetype": "text/x-python",
   "name": "python",
   "nbconvert_exporter": "python",
   "pygments_lexer": "ipython3",
   "version": "3.10.7"
  }
 },
 "nbformat": 4,
 "nbformat_minor": 5
}
