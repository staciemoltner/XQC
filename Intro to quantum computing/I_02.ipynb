{
 "cells": [
  {
   "cell_type": "markdown",
   "id": "444c31ad-1609-4c89-9061-29f2de7b278a",
   "metadata": {},
   "source": [
    "# I.2 Quantum circuits\n",
    "https://codebook.xanadu.ai/I.2"
   ]
  },
  {
   "cell_type": "code",
   "execution_count": 1,
   "id": "41fe5224-88c8-414a-9692-94c8f090fe06",
   "metadata": {},
   "outputs": [],
   "source": [
    "import numpy as np\n",
    "import pennylane as qml"
   ]
  },
  {
   "cell_type": "markdown",
   "id": "665b8dc8-ce0c-4fbc-8799-ee865b6ea178",
   "metadata": {},
   "source": [
    "## Codercise I.2.1"
   ]
  },
  {
   "cell_type": "code",
   "execution_count": 2,
   "id": "4fa2f02c-cf1a-4122-919d-11e25448154b",
   "metadata": {},
   "outputs": [],
   "source": [
    "def my_circuit(theta, phi):\n",
    "    qml.CNOT(wires=[0, 1])\n",
    "    qml.RX(theta, wires=2)\n",
    "    qml.Hadamard(wires=0)\n",
    "    qml.CNOT(wires=[2, 0])\n",
    "    qml.RY(phi, wires=1)\n",
    "\n",
    "    return qml.probs(wires=[0, 1, 2])\n",
    "    "
   ]
  },
  {
   "cell_type": "markdown",
   "id": "efe97171-42ea-4d35-878d-964400ae89c7",
   "metadata": {},
   "source": [
    "## Codercise I.2.2\n",
    "\n",
    "To construct a device in PennyLane with n qubits: `dev = qml.device('device.name', wires=n)`.\n",
    "\n",
    "The standard quantum simulator used in these exercises is called \"default.qubit\": `dev = qml.device('default.qubit', wires=[\"wire_a\", \"wire_b\"])`,\n",
    "\n",
    "where we've labelled the device's wires."
   ]
  },
  {
   "cell_type": "code",
   "execution_count": 7,
   "id": "73720fed-3a98-4a32-917b-de033f5e669f",
   "metadata": {},
   "outputs": [
    {
     "data": {
      "text/plain": [
       "tensor([9.87560268e-01, 0.00000000e+00, 0.00000000e+00, 2.47302134e-03,\n",
       "        2.48960206e-05, 0.00000000e+00, 0.00000000e+00, 9.94181506e-03], requires_grad=True)"
      ]
     },
     "execution_count": 7,
     "metadata": {},
     "output_type": "execute_result"
    }
   ],
   "source": [
    "dev = qml.device(\"default.qubit\", wires=3) # create device with 3 wires\n",
    "\n",
    "def my_circuit(theta, phi, omega):\n",
    "    qml.RX(theta, wires=0)\n",
    "    qml.RY(phi, wires=1)\n",
    "    qml.RZ(omega, wires=2)\n",
    "    qml.CNOT(wires=[0,1])\n",
    "    qml.CNOT(wires=[1,2])\n",
    "    qml.CNOT(wires=[2,0])\n",
    "    return qml.probs(wires=[0, 1, 2])\n",
    "\n",
    "my_qnode = qml.QNode(my_circuit, dev) # create a QNode, which binds the function & device\n",
    "my_qnode(theta = 0.1, phi = 0.2, omega = 0.3) # run QNode\n"
   ]
  },
  {
   "cell_type": "markdown",
   "id": "0d893018-6ed7-44b3-8636-ed00ddd48e48",
   "metadata": {},
   "source": [
    "## Codercise I.2.3"
   ]
  },
  {
   "cell_type": "code",
   "execution_count": 8,
   "id": "4a54df16-5dcf-4a88-a607-2f482b427ce7",
   "metadata": {},
   "outputs": [
    {
     "data": {
      "text/plain": [
       "tensor([9.87560268e-01, 0.00000000e+00, 0.00000000e+00, 2.47302134e-03,\n",
       "        2.48960206e-05, 0.00000000e+00, 0.00000000e+00, 9.94181506e-03], requires_grad=True)"
      ]
     },
     "execution_count": 8,
     "metadata": {},
     "output_type": "execute_result"
    }
   ],
   "source": [
    "dev = qml.device(\"default.qubit\", wires=3)\n",
    "\n",
    "@qml.qnode(dev) # decorate quantum function my_circuit to produce a QNode with the same name, to be run on device 'dev'\n",
    "def my_circuit(theta, phi, omega):\n",
    "    qml.RX(theta, wires=0)\n",
    "    qml.RY(phi, wires=1)\n",
    "    qml.RZ(omega, wires=2)\n",
    "    qml.CNOT(wires=[0, 1])\n",
    "    qml.CNOT(wires=[1, 2])\n",
    "    qml.CNOT(wires=[2, 0])\n",
    "    return qml.probs(wires=[0, 1, 2])\n",
    "\n",
    "my_circuit(theta = 0.1, phi = 0.2, omega = 0.3) # run QNode\n"
   ]
  },
  {
   "cell_type": "markdown",
   "id": "ed0ad10a-e24d-4e1d-865d-46af029db7fc",
   "metadata": {},
   "source": [
    "## Codercise I.2.4"
   ]
  },
  {
   "cell_type": "code",
   "execution_count": 9,
   "id": "ea4d5333-a4db-4ff9-8cf6-b79ca21dcdb7",
   "metadata": {},
   "outputs": [],
   "source": [
    "dev = qml.device(\"default.qubit\", wires=3)\n",
    "\n",
    "@qml.qnode(dev)\n",
    "def my_circuit(theta, phi, omega):\n",
    "    qml.RX(theta, wires=0)\n",
    "    qml.RY(phi, wires=1)\n",
    "    qml.RZ(omega, wires=2)\n",
    "    qml.CNOT(wires=[0, 1])\n",
    "    qml.CNOT(wires=[1, 2])\n",
    "    qml.CNOT(wires=[2, 0])\n",
    "    return qml.probs(wires=[0, 1, 2])\n",
    "\n",
    "depth = 4 # circuit depth\n"
   ]
  },
  {
   "cell_type": "code",
   "execution_count": null,
   "id": "f8de3583-8bfd-4f9f-8267-1dec453d2f38",
   "metadata": {},
   "outputs": [],
   "source": []
  }
 ],
 "metadata": {
  "kernelspec": {
   "display_name": "Python 3 (ipykernel)",
   "language": "python",
   "name": "python3"
  },
  "language_info": {
   "codemirror_mode": {
    "name": "ipython",
    "version": 3
   },
   "file_extension": ".py",
   "mimetype": "text/x-python",
   "name": "python",
   "nbconvert_exporter": "python",
   "pygments_lexer": "ipython3",
   "version": "3.10.7"
  }
 },
 "nbformat": 4,
 "nbformat_minor": 5
}
