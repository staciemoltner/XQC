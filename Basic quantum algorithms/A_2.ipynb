{
 "cells": [
  {
   "cell_type": "markdown",
   "id": "114fcaaf-a3ad-4dd4-a39e-285127b21f64",
   "metadata": {},
   "source": [
    "# A.2 The magic 8-ball\n",
    "https://codebook.xanadu.ai/A.2"
   ]
  },
  {
   "cell_type": "code",
   "execution_count": 1,
   "id": "f0a7fd5a-797c-486d-ae77-f2da5adbe30e",
   "metadata": {},
   "outputs": [],
   "source": [
    "import numpy as np\n",
    "import pennylane as qml"
   ]
  },
  {
   "cell_type": "markdown",
   "id": "eaa0bbf7-56ed-4caa-a7cd-72abb733bde1",
   "metadata": {},
   "source": [
    "## Codercise A.2.1"
   ]
  },
  {
   "cell_type": "code",
   "execution_count": 2,
   "id": "419ea21c-745a-4c53-8bbb-d5c48c6c9a9e",
   "metadata": {},
   "outputs": [],
   "source": [
    "def oracle_matrix(combo):\n",
    "    \"\"\"\n",
    "    returns: \n",
    "        array[float]: the oracle matrix for a given secret combination\n",
    "    ****************\n",
    "    combo (list[int]): the secret combination, given as a list of int bits\n",
    "    \"\"\"\n",
    "    n = len(combo)\n",
    "    index = np.ravel_multi_index(combo, [2]*n) # index of the solution\n",
    "    my_array = np.identity(2**n)\n",
    "    my_array[index, index] *= -1\n",
    "    return my_array\n",
    "    "
   ]
  },
  {
   "cell_type": "code",
   "execution_count": 3,
   "id": "2f5f168b-e99d-49c9-928c-2b905fd3b46e",
   "metadata": {},
   "outputs": [
    {
     "data": {
      "text/plain": [
       "array([[ 1.,  0.,  0.,  0.,  0.,  0.,  0.,  0.],\n",
       "       [ 0.,  1.,  0.,  0.,  0.,  0.,  0.,  0.],\n",
       "       [ 0.,  0., -1.,  0.,  0.,  0.,  0.,  0.],\n",
       "       [ 0.,  0.,  0.,  1.,  0.,  0.,  0.,  0.],\n",
       "       [ 0.,  0.,  0.,  0.,  1.,  0.,  0.,  0.],\n",
       "       [ 0.,  0.,  0.,  0.,  0.,  1.,  0.,  0.],\n",
       "       [ 0.,  0.,  0.,  0.,  0.,  0.,  1.,  0.],\n",
       "       [ 0.,  0.,  0.,  0.,  0.,  0.,  0.,  1.]])"
      ]
     },
     "execution_count": 3,
     "metadata": {},
     "output_type": "execute_result"
    }
   ],
   "source": [
    "oracle_matrix([0,1,0])"
   ]
  },
  {
   "cell_type": "markdown",
   "id": "c31d6338-8683-44e6-8d7d-9a4e30802abb",
   "metadata": {},
   "source": [
    "## Codercise A.2.2"
   ]
  },
  {
   "cell_type": "code",
   "execution_count": 4,
   "id": "3b231ce2-405a-4269-bd22-25847f658379",
   "metadata": {},
   "outputs": [],
   "source": [
    "n_bits = 4\n",
    "dev = qml.device(\"default.qubit\", wires=n_bits)\n",
    "\n",
    "@qml.qnode(dev)\n",
    "def oracle_circuit(combo):\n",
    "    \"\"\"\n",
    "    returns: \n",
    "        list[float]: the probability of observing each outcome\n",
    "    ****************\n",
    "    combo (list[int]): the secret combination, given as a list of int bits\n",
    "    \"\"\"\n",
    "    n = len(combo)\n",
    "    U = oracle_matrix(combo)\n",
    "    for wire in range(n):\n",
    "        qml.Hadamard(wires=wire)\n",
    "    qml.QubitUnitary(U, wires=range(n_bits))\n",
    "    return qml.probs(wires=range(n_bits))"
   ]
  },
  {
   "cell_type": "code",
   "execution_count": null,
   "id": "93429e9f-de9e-4931-8336-c36f31d4090c",
   "metadata": {},
   "outputs": [],
   "source": []
  }
 ],
 "metadata": {
  "kernelspec": {
   "display_name": "Python 3 (ipykernel)",
   "language": "python",
   "name": "python3"
  },
  "language_info": {
   "codemirror_mode": {
    "name": "ipython",
    "version": 3
   },
   "file_extension": ".py",
   "mimetype": "text/x-python",
   "name": "python",
   "nbconvert_exporter": "python",
   "pygments_lexer": "ipython3",
   "version": "3.10.7"
  }
 },
 "nbformat": 4,
 "nbformat_minor": 5
}
