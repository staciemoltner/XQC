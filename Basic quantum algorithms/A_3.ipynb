{
 "cells": [
  {
   "cell_type": "markdown",
   "id": "2b27bba6-9093-4a62-84cd-0f6d6aaa006c",
   "metadata": {},
   "source": [
    "# A.3 Pair programming\n",
    "https://codebook.xanadu.ai/A.3"
   ]
  },
  {
   "cell_type": "code",
   "execution_count": 1,
   "id": "9d5a5705-b1f0-488f-ab4f-42380bb76f21",
   "metadata": {},
   "outputs": [],
   "source": [
    "import numpy as np\n",
    "import pennylane as qml"
   ]
  },
  {
   "cell_type": "markdown",
   "id": "73737e44-45d9-4c56-977a-be64b0217d74",
   "metadata": {},
   "source": [
    "## Codercise A.3.1"
   ]
  },
  {
   "cell_type": "code",
   "execution_count": 2,
   "id": "300705d1-242a-4732-8fdd-30c2823e550c",
   "metadata": {},
   "outputs": [],
   "source": [
    "def oracle_matrix(combo):\n",
    "    \"\"\"\n",
    "    returns: \n",
    "        array[float]: oracle matrix for a secret combination\n",
    "    ****************\n",
    "    combo (list[int]): the secret combination, given as list of bits\n",
    "    \"\"\"\n",
    "    n = len(combo)\n",
    "    index = np.ravel_multi_index(combo, [2]*n) # index of solution\n",
    "    my_array = np.identity(2**n) # create identity matrix\n",
    "    my_array[index, index] = -1\n",
    "    return my_array"
   ]
  },
  {
   "cell_type": "code",
   "execution_count": 3,
   "id": "f61915da-657f-4d29-9dc3-8712871690e7",
   "metadata": {},
   "outputs": [],
   "source": [
    "n_bits = 4\n",
    "dev = qml.device(\"default.qubit\", wires=n_bits)\n",
    "\n",
    "@qml.qnode(dev)\n",
    "def pair_circuit(x_tilde, combo):\n",
    "    \"\"\"\n",
    "    returns: \n",
    "        array[float]: probabilities of measuring 0 and 1 on the last qubit\n",
    "    ****************\n",
    "    x_tilde (list [int]): (n-1)-bit string that labels the pairs of the n-bit strings\n",
    "    combo (list[int]): the secret combination, given as list of bits\n",
    "    \"\"\"\n",
    "    for i in range(n_bits - 1):\n",
    "        if x_tilde[i] == 1:\n",
    "            qml.PauliX(wires = i)\n",
    "    qml.Hadamard(wires = n_bits - 1)\n",
    "    qml.QubitUnitary(oracle_matrix(combo), wires = range(n_bits))\n",
    "    qml.Hadamard(wires = n_bits - 1)\n",
    "    return qml.probs(wires = n_bits - 1)\n",
    "    "
   ]
  },
  {
   "cell_type": "markdown",
   "id": "d8fbe34b-ca96-4f75-94e8-057be489903a",
   "metadata": {},
   "source": [
    "## Codercise A.3.2"
   ]
  },
  {
   "cell_type": "code",
   "execution_count": 4,
   "id": "4c0329f4-aeba-48fd-940f-241e5947a7e7",
   "metadata": {},
   "outputs": [],
   "source": [
    "def secret_combo(n_bits):\n",
    "    \"\"\"\n",
    "    returns:\n",
    "        array[int]: n_bit-dimensional array of randomly generated 0's and 1's\n",
    "    ****************\n",
    "    n_bits (int): number of bits in the secret combination\n",
    "    \"\"\"\n",
    "    combo_list = np.empty(n_bits, dtype=int)\n",
    "    for i in range(n_bits):\n",
    "        combo_list[i] = np.random.randint(0, high=2, dtype=int)\n",
    "    return(combo_list)"
   ]
  },
  {
   "cell_type": "code",
   "execution_count": 5,
   "id": "85d150da-9efe-4c5a-bebb-1b4cb84af972",
   "metadata": {},
   "outputs": [
    {
     "name": "stdout",
     "output_type": "stream",
     "text": [
      "For 4 bits, it takes 4.718 pair tests on average.\n"
     ]
    }
   ],
   "source": [
    "def pair_lock_picker(trials):\n",
    "    \"\"\"\n",
    "    returns:\n",
    "        int: the average number of pair tests needed for a given number of trials\n",
    "    ****************\n",
    "    trials (int): number of times to test\n",
    "    \"\"\"\n",
    "    x_tilde_strs = [np.binary_repr(n, n_bits-1) for n in range(2**(n_bits-1))]\n",
    "    x_tildes = [[int(s) for s in x_tilde_str] for x_tilde_str in x_tilde_strs] \n",
    "\n",
    "    test_numbers = []\n",
    "\n",
    "    for trial in range(trials):\n",
    "        combo = secret_combo(n_bits)\n",
    "        counter = 0\n",
    "        for x_tilde in x_tildes:\n",
    "            counter += 1\n",
    "            if np.isclose(pair_circuit(x_tilde, combo)[1], 1):\n",
    "                # if the probability of measuring 1 on the last qubit is close to 1, exit loop\n",
    "                break\n",
    "        test_numbers.append(counter)\n",
    "    return sum(test_numbers)/trials\n",
    "\n",
    "trials = 500\n",
    "output = pair_lock_picker(trials)\n",
    "\n",
    "print(f\"For {n_bits} bits, it takes\", output, \"pair tests on average.\")    "
   ]
  },
  {
   "cell_type": "code",
   "execution_count": null,
   "id": "269b23b6-0920-4c6f-bb65-eb583c6f4fa3",
   "metadata": {},
   "outputs": [],
   "source": []
  }
 ],
 "metadata": {
  "kernelspec": {
   "display_name": "Python 3 (ipykernel)",
   "language": "python",
   "name": "python3"
  },
  "language_info": {
   "codemirror_mode": {
    "name": "ipython",
    "version": 3
   },
   "file_extension": ".py",
   "mimetype": "text/x-python",
   "name": "python",
   "nbconvert_exporter": "python",
   "pygments_lexer": "ipython3",
   "version": "3.10.7"
  }
 },
 "nbformat": 4,
 "nbformat_minor": 5
}
