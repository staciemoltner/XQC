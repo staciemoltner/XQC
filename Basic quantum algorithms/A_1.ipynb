{
 "cells": [
  {
   "cell_type": "markdown",
   "id": "24418a35-53a3-4a32-a54e-123bfa7f3dcb",
   "metadata": {},
   "source": [
    "# A.1 No exponential magic\n",
    "https://codebook.xanadu.ai/A.1"
   ]
  },
  {
   "cell_type": "code",
   "execution_count": 1,
   "id": "856b493d-c1f8-4cb3-9d22-121dbf30155d",
   "metadata": {},
   "outputs": [],
   "source": [
    "import numpy as np\n",
    "import pennylane as qml"
   ]
  },
  {
   "cell_type": "markdown",
   "id": "946746cf-bed2-45c9-ac21-d6696642f026",
   "metadata": {},
   "source": [
    "## Codercise A.1.1"
   ]
  },
  {
   "cell_type": "code",
   "execution_count": 2,
   "id": "ac4f6ae7-c349-4e49-8bc9-994e4b533471",
   "metadata": {},
   "outputs": [],
   "source": [
    "n_bits = 4\n",
    "dev = qml.device(\"default.qubit\", wires=n_bits)\n",
    "\n",
    "@qml.qnode(dev)\n",
    "def naive_circuit():\n",
    "    \"\"\"\n",
    "    returns: \n",
    "        array[float]: the probability of observing each outcome as an n_bit-dimensional array\n",
    "    \"\"\"\n",
    "    for wire in range(n_bits):\n",
    "        qml.Hadamard(wires = wire)\n",
    "    return qml.probs(wires = range(n_bits))"
   ]
  },
  {
   "cell_type": "code",
   "execution_count": 3,
   "id": "6cfb776c-8d5d-431f-b26d-f315b7acbf1a",
   "metadata": {},
   "outputs": [
    {
     "data": {
      "text/plain": [
       "tensor([0.0625, 0.0625, 0.0625, 0.0625, 0.0625, 0.0625, 0.0625, 0.0625,\n",
       "        0.0625, 0.0625, 0.0625, 0.0625, 0.0625, 0.0625, 0.0625, 0.0625], requires_grad=True)"
      ]
     },
     "execution_count": 3,
     "metadata": {},
     "output_type": "execute_result"
    }
   ],
   "source": [
    "naive_circuit()"
   ]
  },
  {
   "cell_type": "code",
   "execution_count": null,
   "id": "d188ca8c-a182-4d95-a5b4-6214151744d9",
   "metadata": {},
   "outputs": [],
   "source": []
  }
 ],
 "metadata": {
  "kernelspec": {
   "display_name": "Python 3 (ipykernel)",
   "language": "python",
   "name": "python3"
  },
  "language_info": {
   "codemirror_mode": {
    "name": "ipython",
    "version": 3
   },
   "file_extension": ".py",
   "mimetype": "text/x-python",
   "name": "python",
   "nbconvert_exporter": "python",
   "pygments_lexer": "ipython3",
   "version": "3.10.7"
  }
 },
 "nbformat": 4,
 "nbformat_minor": 5
}
